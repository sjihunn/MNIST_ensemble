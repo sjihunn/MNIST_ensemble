{
 "cells": [
  {
   "cell_type": "code",
   "execution_count": 1,
   "metadata": {},
   "outputs": [],
   "source": [
    "from sklearn.ensemble import RandomForestClassifier, ExtraTreesClassifier\n",
    "from sklearn.svm import LinearSVC\n",
    "import numpy as np\n",
    "from sklearn.model_selection import train_test_split\n",
    "from sklearn.ensemble import VotingClassifier\n",
    "from sklearn.neural_network import MLPClassifier\n",
    "from sklearn.naive_bayes import GaussianNB"
   ]
  },
  {
   "cell_type": "code",
   "execution_count": 2,
   "metadata": {},
   "outputs": [],
   "source": [
    "from sklearn.datasets import fetch_openml   #mnist dataset을 load합니다.\n",
    "mnist = fetch_openml('mnist_784')"
   ]
  },
  {
   "cell_type": "code",
   "execution_count": 3,
   "metadata": {},
   "outputs": [
    {
     "data": {
      "text/plain": [
       "(70000, 784)"
      ]
     },
     "execution_count": 3,
     "metadata": {},
     "output_type": "execute_result"
    }
   ],
   "source": [
    "X,y = mnist[\"data\"], mnist[\"target\"]\n",
    "X.shape"
   ]
  },
  {
   "cell_type": "code",
   "execution_count": 3,
   "metadata": {},
   "outputs": [],
   "source": [
    "X_train, X_test, y_train, y_test = train_test_split(mnist.data, mnist.target, test_size=0.2, random_state=1)  \n",
    "X_train, X_val, y_train, y_val = train_test_split(X_train, y_train, test_size=0.2, random_state=1)\n",
    "#mnist를 train set(0.6), val set(0.2), test set(0.2)으로 나눕니다."
   ]
  },
  {
   "cell_type": "code",
   "execution_count": 4,
   "metadata": {},
   "outputs": [],
   "source": [
    "random_forest_clf = RandomForestClassifier(n_estimators=100, random_state=1, n_jobs=-1) #분류를 위한 model을 구성합니다.\n",
    "extra_trees_clf = ExtraTreesClassifier(n_estimators=100, random_state=1, n_jobs=-1)\n",
    "svm_clf = LinearSVC(max_iter=100, tol=20, random_state=1)\n",
    "mlp_clf = MLPClassifier(random_state=1)\n",
    "bayes_clf = GaussianNB()"
   ]
  },
  {
   "cell_type": "code",
   "execution_count": 5,
   "metadata": {},
   "outputs": [],
   "source": [
    "from sklearn.metrics import accuracy_score"
   ]
  },
  {
   "cell_type": "code",
   "execution_count": 6,
   "metadata": {},
   "outputs": [
    {
     "name": "stdout",
     "output_type": "stream",
     "text": [
      "RandomForestClassifier 0.9667857142857142\n",
      "ExtraTreesClassifier 0.9689285714285715\n",
      "LinearSVC 0.85375\n",
      "MLPClassifier 0.9663392857142857\n",
      "GaussianNB 0.5575\n"
     ]
    }
   ],
   "source": [
    "models = [random_forest_clf, extra_trees_clf, svm_clf, mlp_clf, bayes_clf]   #각 model에 train set을 학습시킨 후 val set에 적용을 시켜 성능을 계산합니다.\n",
    "for estimator in models:\n",
    "    estimator.fit(X_train, y_train)\n",
    "    y_pred = estimator.predict(X_val)\n",
    "    print(estimator.__class__.__name__, accuracy_score(y_val, y_pred))"
   ]
  },
  {
   "cell_type": "code",
   "execution_count": 7,
   "metadata": {},
   "outputs": [],
   "source": [
    "voting_estimators = [                                 #voting classifier를 구성하기전 성능이 좋지않은 SVC와 GaussianNB는 제거합니다.\n",
    "    (\"random_forest_clf\", random_forest_clf), \n",
    "    (\"extra_trees_clf\", extra_trees_clf),\n",
    "    (\"mlp_clf\", mlp_clf)\n",
    "]"
   ]
  },
  {
   "cell_type": "code",
   "execution_count": 8,
   "metadata": {},
   "outputs": [],
   "source": [
    "soft_voting_clf = VotingClassifier(voting_estimators, voting='soft')   #voting이 soft인 soft_voting model을 만듭니다."
   ]
  },
  {
   "cell_type": "code",
   "execution_count": 9,
   "metadata": {},
   "outputs": [
    {
     "data": {
      "text/plain": [
       "VotingClassifier(estimators=[('random_forest_clf',\n",
       "                              RandomForestClassifier(n_jobs=-1,\n",
       "                                                     random_state=1)),\n",
       "                             ('extra_trees_clf',\n",
       "                              ExtraTreesClassifier(n_jobs=-1, random_state=1)),\n",
       "                             ('mlp_clf', MLPClassifier(random_state=1))],\n",
       "                 voting='soft')"
      ]
     },
     "execution_count": 9,
     "metadata": {},
     "output_type": "execute_result"
    }
   ],
   "source": [
    "soft_voting_clf.fit(X_train, y_train)              #soft_voting model을 train set에 학습시킵니다."
   ]
  },
  {
   "cell_type": "code",
   "execution_count": 10,
   "metadata": {},
   "outputs": [
    {
     "data": {
      "text/plain": [
       "0.9709821428571429"
      ]
     },
     "execution_count": 10,
     "metadata": {},
     "output_type": "execute_result"
    }
   ],
   "source": [
    "soft_voting_clf.score(X_val, y_val)    #soft_voting model을 val set에 적용시켜 성능을 계산합니다."
   ]
  },
  {
   "cell_type": "code",
   "execution_count": 11,
   "metadata": {},
   "outputs": [],
   "source": [
    "hard_voting_clf = VotingClassifier(voting_estimators, voting='hard')   #voting이 hard인 hard_voting model을 만듭니다"
   ]
  },
  {
   "cell_type": "code",
   "execution_count": 12,
   "metadata": {},
   "outputs": [
    {
     "data": {
      "text/plain": [
       "VotingClassifier(estimators=[('random_forest_clf',\n",
       "                              RandomForestClassifier(n_jobs=-1,\n",
       "                                                     random_state=1)),\n",
       "                             ('extra_trees_clf',\n",
       "                              ExtraTreesClassifier(n_jobs=-1, random_state=1)),\n",
       "                             ('mlp_clf', MLPClassifier(random_state=1))])"
      ]
     },
     "execution_count": 12,
     "metadata": {},
     "output_type": "execute_result"
    }
   ],
   "source": [
    "hard_voting_clf.fit(X_train, y_train)       #hard_voting model을 train set에 학습시킵니다."
   ]
  },
  {
   "cell_type": "code",
   "execution_count": 13,
   "metadata": {},
   "outputs": [
    {
     "data": {
      "text/plain": [
       "0.9715178571428571"
      ]
     },
     "execution_count": 13,
     "metadata": {},
     "output_type": "execute_result"
    }
   ],
   "source": [
    "hard_voting_clf.score(X_val, y_val)         #hard_voting model을 val set에 적용시켜 성능을 계산합니다."
   ]
  },
  {
   "cell_type": "code",
   "execution_count": 14,
   "metadata": {},
   "outputs": [
    {
     "name": "stdout",
     "output_type": "stream",
     "text": [
      "VotingClassifier 0.9717142857142858\n"
     ]
    }
   ],
   "source": [
    "y_pred = hard_voting_clf.predict(X_test)      #hard_voting model이 soft_voting model보다 성능이 더 좋으므로 hard_voting model을 test set에 적용하여 성능을 계산합니다.\n",
    "print(hard_voting_clf.__class__.__name__, accuracy_score(y_test, y_pred))   "
   ]
  },
  {
   "cell_type": "code",
   "execution_count": null,
   "metadata": {},
   "outputs": [],
   "source": []
  }
 ],
 "metadata": {
  "kernelspec": {
   "display_name": "Python 3",
   "language": "python",
   "name": "python3"
  },
  "language_info": {
   "codemirror_mode": {
    "name": "ipython",
    "version": 3
   },
   "file_extension": ".py",
   "mimetype": "text/x-python",
   "name": "python",
   "nbconvert_exporter": "python",
   "pygments_lexer": "ipython3",
   "version": "3.7.9"
  }
 },
 "nbformat": 4,
 "nbformat_minor": 4
}
